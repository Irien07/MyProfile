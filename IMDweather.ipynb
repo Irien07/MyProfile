{
 "metadata": {
  "name": ""
 },
 "nbformat": 3,
 "nbformat_minor": 0,
 "worksheets": [
  {
   "cells": [
    {
     "cell_type": "markdown",
     "metadata": {},
     "source": [
      "## IMDweather \n",
      "Fetch today's weather and forecast from [India Meteorological Department](http://www.imd.gov.in/). - Pratap Vardhan"
     ]
    },
    {
     "cell_type": "code",
     "collapsed": false,
     "input": [
      "\"\"\"\n",
      "IMD.py\n",
      "======\n",
      "Fetch Today's Weather from India Meteorological Department\n",
      "\"\"\"\n",
      "import os\n",
      "import time\n",
      "import hashlib\n",
      "import requests\n",
      "from bs4 import BeautifulSoup\n",
      "import pandas as pd"
     ],
     "language": "python",
     "metadata": {},
     "outputs": [],
     "prompt_number": 1
    },
    {
     "cell_type": "code",
     "collapsed": false,
     "input": [
      "if not os.path.exists('.cache'):\n",
      "    os.makedirs('.cache')\n",
      "\n",
      "_UA = \"Mozilla/5.0 (Windows NT 6.1; WOW64; rv:32.0) Gecko/20100101 Firefox/32.0\"\n",
      "_SESSION = requests.Session()\n",
      "IMD = \"http://www.imd.gov.in/\"\n",
      "SERVERLINK = \"http://202.54.31.7/citywx/city_weather1.php?\"\n",
      "DAYOLD = time.time() - 1 * 24 * 60 * 60\n",
      "LOOKUP = \"baselookup.csv\"\n",
      "\n",
      "def get(url):\n",
      "    \"\"\"Return cached page for url\"\"\"\n",
      "    path = os.path.join('.cache', hashlib.md5(url).hexdigest() + '.html')\n",
      "    # Fetch IMD site only if file doesn't exist or if older than a day\n",
      "    if not os.path.exists(path) or os.stat(path).st_mtime < DAYOLD:\n",
      "        print 'Fetching %s from Web' % url\n",
      "        response = _SESSION.get(url, headers={'User-Agent': _UA})\n",
      "        with open(path, 'w') as fil:\n",
      "            fil.write(response.text.encode('utf-8'))\n",
      "    return BeautifulSoup(open(path), 'html.parser')"
     ],
     "language": "python",
     "metadata": {},
     "outputs": [],
     "prompt_number": 2
    },
    {
     "cell_type": "code",
     "collapsed": false,
     "input": [
      "def fetch_imd(place):\n",
      "    \"\"\"Fetch Results from IMD\"\"\"\n",
      "    if not os.path.exists(LOOKUP):\n",
      "        soup = get(IMD)\n",
      "        places = []\n",
      "        for point in soup.find_all('area'):\n",
      "            places.append({\n",
      "                           'ID': \"'%s'\" % point.get('href').split('id=')[1],\n",
      "                           'PLACE': point.get('title')\n",
      "                           })\n",
      "        pd.DataFrame(places).to_csv(LOOKUP, index=False)\n",
      "\n",
      "    lookup = pd.read_csv(LOOKUP)\n",
      "    id = lookup[lookup.PLACE==place.upper()].ID.values\n",
      "    if id:\n",
      "        soup = get(SERVERLINK + 'id=' + id[0][1:-1])\n",
      "        daytable = soup.find('table').find('table').find_all('tr')[1:]\n",
      "        print \"IMD - Weather @ %s\" % place\n",
      "        for rows in daytable:\n",
      "            row = rows.find_all('td')\n",
      "            print \"%s: %s\" % (row[0].text, row[1].text.strip())\n",
      "        print \"Today's Forecast: %s\" % soup.find('table').select('\\\n",
      "                tr[bgcolor,ffffff] td[colspan,2] font[size,1+]')[1].text.strip()\n",
      "        print time.strftime(\"%d/%m/%Y\")\n",
      "    else:\n",
      "        print \"%s is not indexed on IMD site.\" % place"
     ],
     "language": "python",
     "metadata": {},
     "outputs": [],
     "prompt_number": 3
    },
    {
     "cell_type": "code",
     "collapsed": false,
     "input": [
      "# Usage\n",
      "fetch_imd('Hyderabad')"
     ],
     "language": "python",
     "metadata": {},
     "outputs": [
      {
       "output_type": "stream",
       "stream": "stdout",
       "text": [
        "IMD - Weather @ Hyderabad\n",
        "Maximum Temp(oC): 32.6\n",
        "Departure from Normal(oC): 1\n",
        "Minimum Temp (oC): 23.8\n",
        "Departure from Normal(oC): 2\n",
        "24 Hours Rainfall (mm): 1.2\n",
        "Todays Sunset (IST): 18:19\n",
        "Tommorows Sunrise (IST): 06:04\n",
        "Moonset (IST): 11:50\n",
        "Moonrise (IST): 23:27\n",
        "Today's Forecast: SKY CONDITION WOULD BE GENERALLY CLOUDY.  RAIN OR THUNDERSHOWERS   WOULD  OCCUR IN PARTS OF CITY.  MAXIMUM AND MINIMUM TEMPERATURES WOULD BE AROUND 33 AND 24 DEGREES CELSIUS RESPECTIVELY.\n",
        "15/09/2014\n"
       ]
      }
     ],
     "prompt_number": 4
    }
   ],
   "metadata": {}
  }
 ]
}